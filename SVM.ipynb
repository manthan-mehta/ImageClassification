{
  "nbformat": 4,
  "nbformat_minor": 0,
  "metadata": {
    "colab": {
      "name": "SVM.ipynb",
      "provenance": [],
      "authorship_tag": "ABX9TyN0ZRwtzaEl+7kfq7iMHn7i",
      "include_colab_link": true
    },
    "kernelspec": {
      "name": "python3",
      "display_name": "Python 3"
    }
  },
  "cells": [
    {
      "cell_type": "markdown",
      "metadata": {
        "id": "view-in-github",
        "colab_type": "text"
      },
      "source": [
        "<a href=\"https://colab.research.google.com/github/manthan-mehta/ImageClassification/blob/master/SVM.ipynb\" target=\"_parent\"><img src=\"https://colab.research.google.com/assets/colab-badge.svg\" alt=\"Open In Colab\"/></a>"
      ]
    },
    {
      "cell_type": "code",
      "metadata": {
        "id": "togki1lW8CaS",
        "colab_type": "code",
        "colab": {}
      },
      "source": [
        "import numpy as np\n",
        "import random\n",
        "import matplotlib.pyplot as plt"
      ],
      "execution_count": 0,
      "outputs": []
    },
    {
      "cell_type": "code",
      "metadata": {
        "id": "UfZrtHkQ8Vv7",
        "colab_type": "code",
        "colab": {}
      },
      "source": [
        "def load_cifar10(cifar10_folder_path,batch_id):\n",
        "  import pickle\n",
        "  with open(cifar10_folder_path + '/data_batch_' +str(batch_id),'rb') as fo:\n",
        "    dict = pickle.load(fo,encoding='latin1')\n",
        "  return dict"
      ],
      "execution_count": 0,
      "outputs": []
    },
    {
      "cell_type": "code",
      "metadata": {
        "id": "UEFlO2hr9Az-",
        "colab_type": "code",
        "colab": {}
      },
      "source": [
        "train = None\n",
        "Y_train = []\n",
        "for i in range(1,6):\n",
        "  dict1 = load_cifar10('/content',1)\n",
        "  if i==1:\n",
        "    train = dict1['data']\n",
        "  else:\n",
        "    train = np.vstack((train,dict1['data']))\n",
        "  Y_train += dict1['labels']"
      ],
      "execution_count": 0,
      "outputs": []
    },
    {
      "cell_type": "code",
      "metadata": {
        "id": "96QgWA8l-ans",
        "colab_type": "code",
        "colab": {}
      },
      "source": [
        "X_train = train.reshape((len(train), 3, 32, 32)).transpose(0, 2, 3, 1)\n",
        "Y_train = np.asarray(Y_train)"
      ],
      "execution_count": 0,
      "outputs": []
    },
    {
      "cell_type": "code",
      "metadata": {
        "id": "IctJNYf6-4i3",
        "colab_type": "code",
        "colab": {}
      },
      "source": [
        "import pickle\n",
        "with open('/content/test_batch','rb') as fo:\n",
        "    test_data = pickle.load(fo,encoding='latin1')\n",
        "X_test = test_data['data'].reshape((len(test_data['data']), 3, 32, 32)).transpose(0, 2, 3, 1)\n",
        "Y_test = np.asarray(test_data['labels'])"
      ],
      "execution_count": 0,
      "outputs": []
    },
    {
      "cell_type": "code",
      "metadata": {
        "id": "aSNX2OMfCDAc",
        "colab_type": "code",
        "outputId": "3777291a-0a78-406d-a3c8-98cebbf07a08",
        "colab": {
          "base_uri": "https://localhost:8080/",
          "height": 122
        }
      },
      "source": [
        "# Split the data into train, val, and test sets. In addition we will\n",
        "# create a small development set as a subset of the training data;\n",
        "# we can use this for development so our code runs faster.\n",
        "num_training = 49000\n",
        "num_validation = 1000\n",
        "num_test = 1000\n",
        "num_dev = 500\n",
        "\n",
        "# Our validation set will be num_validation points from the original\n",
        "# training set.\n",
        "mask = range(num_training, num_training + num_validation)\n",
        "X_val = X_train[mask]\n",
        "Y_val = Y_train[mask]\n",
        "\n",
        "# Our training set will be the first num_train points from the original\n",
        "# training set.\n",
        "mask = range(num_training)\n",
        "X_train = X_train[mask]\n",
        "Y_train = Y_train[mask]\n",
        "\n",
        "# We will also make a development set, which is a small subset of\n",
        "# the training set.\n",
        "mask = np.random.choice(num_training, num_dev, replace=False)\n",
        "X_dev = X_train[mask]\n",
        "Y_dev = Y_train[mask]\n",
        "\n",
        "# We use the first num_test points of the original test set as our\n",
        "# test set.\n",
        "mask = range(num_test)\n",
        "X_test = X_test[mask]\n",
        "Y_test = Y_test[mask]\n",
        "\n",
        "print('Train data shape: ', X_train.shape)\n",
        "print('Train labels shape: ', Y_train.shape)\n",
        "print('Validation data shape: ', X_val.shape)\n",
        "print('Validation labels shape: ', Y_val.shape)\n",
        "print('Test data shape: ', X_test.shape)\n",
        "print('Test labels shape: ', Y_test.shape)"
      ],
      "execution_count": 18,
      "outputs": [
        {
          "output_type": "stream",
          "text": [
            "Train data shape:  (49000, 32, 32, 3)\n",
            "Train labels shape:  (49000,)\n",
            "Validation data shape:  (1000, 32, 32, 3)\n",
            "Validation labels shape:  (1000,)\n",
            "Test data shape:  (1000, 32, 32, 3)\n",
            "Test labels shape:  (1000,)\n"
          ],
          "name": "stdout"
        }
      ]
    },
    {
      "cell_type": "code",
      "metadata": {
        "id": "LUFsflI3CVOS",
        "colab_type": "code",
        "outputId": "1e391d9d-7b14-4ec9-bc1f-5e5629948102",
        "colab": {
          "base_uri": "https://localhost:8080/",
          "height": 87
        }
      },
      "source": [
        "X_train = np.reshape(X_train, (X_train.shape[0], -1))\n",
        "X_val = np.reshape(X_val, (X_val.shape[0], -1))\n",
        "X_test = np.reshape(X_test, (X_test.shape[0], -1))\n",
        "X_dev = np.reshape(X_dev, (X_dev.shape[0], -1))\n",
        "\n",
        "# print out the shapes of the data\n",
        "print('Training data shape: ', X_train.shape)\n",
        "print('Validation data shape: ', X_val.shape)\n",
        "print('Test data shape: ', X_test.shape)\n",
        "print('dev data shape: ', X_dev.shape)"
      ],
      "execution_count": 19,
      "outputs": [
        {
          "output_type": "stream",
          "text": [
            "Training data shape:  (49000, 3072)\n",
            "Validation data shape:  (1000, 3072)\n",
            "Test data shape:  (1000, 3072)\n",
            "dev data shape:  (500, 3072)\n"
          ],
          "name": "stdout"
        }
      ]
    },
    {
      "cell_type": "code",
      "metadata": {
        "id": "0y_r3w4BNDdI",
        "colab_type": "code",
        "colab": {}
      },
      "source": [
        "mean_image = np.mean(X_train,axis=0)\n",
        "mean_image = mean_image.astype('uint8')"
      ],
      "execution_count": 0,
      "outputs": []
    },
    {
      "cell_type": "code",
      "metadata": {
        "id": "JI6nZgEEN4Xb",
        "colab_type": "code",
        "colab": {}
      },
      "source": [
        "X_train -= mean_image\n",
        "X_dev -= mean_image\n",
        "X_test -= mean_image\n",
        "X_val -= mean_image"
      ],
      "execution_count": 0,
      "outputs": []
    },
    {
      "cell_type": "code",
      "metadata": {
        "id": "cJg_pVzjOIva",
        "colab_type": "code",
        "outputId": "f365ffd1-3902-482f-bbfd-060d4c4f6267",
        "colab": {
          "base_uri": "https://localhost:8080/",
          "height": 34
        }
      },
      "source": [
        "#Add Bias \n",
        "X_train = np.hstack([X_train, np.ones((X_train.shape[0], 1))])\n",
        "X_val = np.hstack([X_val, np.ones((X_val.shape[0], 1))])\n",
        "X_test = np.hstack([X_test, np.ones((X_test.shape[0], 1))])\n",
        "X_dev = np.hstack([X_dev, np.ones((X_dev.shape[0], 1))])\n",
        "\n",
        "print(X_train.shape, X_val.shape, X_test.shape, X_dev.shape)"
      ],
      "execution_count": 22,
      "outputs": [
        {
          "output_type": "stream",
          "text": [
            "(49000, 3073) (1000, 3073) (1000, 3073) (500, 3073)\n"
          ],
          "name": "stdout"
        }
      ]
    },
    {
      "cell_type": "code",
      "metadata": {
        "id": "R4PJk_t_OrQQ",
        "colab_type": "code",
        "colab": {}
      },
      "source": [
        "# generate a random SVM weight matrix of small numbers\n",
        "W = np.random.randn(3073, 10) * 0.0001 "
      ],
      "execution_count": 0,
      "outputs": []
    },
    {
      "cell_type": "code",
      "metadata": {
        "id": "MxyWKqH2O0wA",
        "colab_type": "code",
        "colab": {}
      },
      "source": [
        "def svm_loss(x,y,w,reg):\n",
        "  dw = np.zeros(w.shape)\n",
        "  num_classes = W.shape[1]\n",
        "  num_train = x.shape[0]\n",
        "  scores = x.dot(w)\n",
        "  correct_class_score = scores[np.arange(num_train),y].reshape(num_train,1)\n",
        "  print(correct_class_score.shape)\n",
        "  local_loss = np.maximum(0,scores - correct_class_score + 1)\n",
        "  local_loss[np.arange(num_train),y] = 0\n",
        "  loss = local_loss.sum() / num_train\n",
        "  loss += reg * np.sum(w*w)\n",
        "\n",
        "  # Making all loss as 0 or 1 so that we can achieve https://math.stackexchange.com/questions/2572318/derivation-of-gradient-of-svm-loss\n",
        "  local_loss[local_loss > 0] = 1\n",
        "  count = local_loss.sum(axis = 1)\n",
        "  dw = (x.T).dot(local_loss)\n",
        "  dw = dw/num_train\n",
        "  dw += reg*2*w\n",
        "  return loss,dw;"
      ],
      "execution_count": 0,
      "outputs": []
    },
    {
      "cell_type": "code",
      "metadata": {
        "id": "vR81Zup_cTje",
        "colab_type": "code",
        "colab": {
          "base_uri": "https://localhost:8080/",
          "height": 52
        },
        "outputId": "92e2df14-babc-4b8f-f211-45d5ce267963"
      },
      "source": [
        "loss,dw = svm_loss(X_dev,Y_dev,W,0.000005)\n",
        "print('loss: %f' % (loss, ))"
      ],
      "execution_count": 31,
      "outputs": [
        {
          "output_type": "stream",
          "text": [
            "(500, 1)\n",
            "loss: 10.408428\n"
          ],
          "name": "stdout"
        }
      ]
    },
    {
      "cell_type": "code",
      "metadata": {
        "id": "WPCjOawWco9V",
        "colab_type": "code",
        "colab": {}
      },
      "source": [
        ""
      ],
      "execution_count": 0,
      "outputs": []
    }
  ]
}