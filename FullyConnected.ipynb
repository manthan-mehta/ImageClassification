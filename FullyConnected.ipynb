{
  "nbformat": 4,
  "nbformat_minor": 0,
  "metadata": {
    "colab": {
      "name": "FullyConnected.ipynb",
      "provenance": [],
      "collapsed_sections": [],
      "toc_visible": true,
      "authorship_tag": "ABX9TyM2LPKjF6x67TmVsWIpLBwU",
      "include_colab_link": true
    },
    "kernelspec": {
      "name": "python3",
      "display_name": "Python 3"
    }
  },
  "cells": [
    {
      "cell_type": "markdown",
      "metadata": {
        "id": "view-in-github",
        "colab_type": "text"
      },
      "source": [
        "<a href=\"https://colab.research.google.com/github/manthan-mehta/ImageClassification/blob/master/FullyConnected.ipynb\" target=\"_parent\"><img src=\"https://colab.research.google.com/assets/colab-badge.svg\" alt=\"Open In Colab\"/></a>"
      ]
    },
    {
      "cell_type": "code",
      "metadata": {
        "id": "te01mrRjdGwe",
        "colab_type": "code",
        "colab": {}
      },
      "source": [
        "import time\n",
        "import numpy as np\n",
        "import matplotlib.pyplot as plt"
      ],
      "execution_count": 0,
      "outputs": []
    },
    {
      "cell_type": "code",
      "metadata": {
        "id": "2eubJ3Q-ehGK",
        "colab_type": "code",
        "colab": {}
      },
      "source": [
        "def load_cifar10(cifar10_folder_path,batch_id):\n",
        "  import pickle\n",
        "  with open(cifar10_folder_path + '/data_batch_' +str(batch_id),'rb') as fo:\n",
        "    dict = pickle.load(fo,encoding='latin1')\n",
        "  return dict"
      ],
      "execution_count": 0,
      "outputs": []
    },
    {
      "cell_type": "code",
      "metadata": {
        "id": "2pfcsqooe3Gf",
        "colab_type": "code",
        "outputId": "45e9165d-6bde-4e7d-b597-fcfa33f4a4d5",
        "colab": {
          "base_uri": "https://localhost:8080/",
          "height": 34
        }
      },
      "source": [
        "train = None\n",
        "Y_train = []\n",
        "for i in range(1,6):\n",
        "  dict1 = load_cifar10('/content',1)\n",
        "  if i==1:\n",
        "    train = dict1['data']\n",
        "  else:\n",
        "    train = np.vstack((train,dict1['data']))\n",
        "  Y_train += dict1['labels']\n",
        "\n",
        "X_train = train.reshape((len(train), 3, 32, 32)).transpose(0, 2, 3, 1)\n",
        "Y_train = np.asarray(Y_train)\n",
        "print(X_train.shape)"
      ],
      "execution_count": 7,
      "outputs": [
        {
          "output_type": "stream",
          "text": [
            "(50000, 32, 32, 3)\n"
          ],
          "name": "stdout"
        }
      ]
    },
    {
      "cell_type": "code",
      "metadata": {
        "id": "nFGQSUQ7glj2",
        "colab_type": "code",
        "outputId": "347110ac-8694-419f-a90e-5847ded84810",
        "colab": {
          "base_uri": "https://localhost:8080/",
          "height": 67
        }
      },
      "source": [
        "import pickle\n",
        "with open('/content/test_batch','rb') as fo:\n",
        "    test_data = pickle.load(fo,encoding='latin1')\n",
        "X_test = test_data['data'].reshape((len(test_data['data']), 3, 32, 32)).transpose(0, 2, 3, 1)\n",
        "Y_test = np.asarray(test_data['labels'])\n",
        "\n",
        "num_training = 49000\n",
        "num_validation = 1000\n",
        "num_test = 1000\n",
        "# Our validation set will be num_validation points from the original\n",
        "# training set.\n",
        "mask = range(num_training, num_training + num_validation)\n",
        "X_val = X_train[mask]\n",
        "Y_val = Y_train[mask]\n",
        "\n",
        "# Our training set will be the first num_train points from the original\n",
        "# training set.\n",
        "mask = range(num_training)\n",
        "X_train = X_train[mask]\n",
        "Y_train = Y_train[mask]\n",
        "\n",
        "# print out the shapes of the data\n",
        "print('Training data shape: ', X_train.shape)\n",
        "print('Validation data shape: ', X_val.shape)\n",
        "print('Test data shape: ', X_test.shape)\n"
      ],
      "execution_count": 8,
      "outputs": [
        {
          "output_type": "stream",
          "text": [
            "Training data shape:  (49000, 32, 32, 3)\n",
            "Validation data shape:  (1000, 32, 32, 3)\n",
            "Test data shape:  (10000, 32, 32, 3)\n"
          ],
          "name": "stdout"
        }
      ]
    },
    {
      "cell_type": "code",
      "metadata": {
        "id": "zw7wiZS3oJ3k",
        "colab_type": "code",
        "colab": {}
      },
      "source": [
        "def rel_error(x, y):\n",
        "  \"\"\" returns relative error \"\"\"\n",
        "  return np.max(np.abs(x - y) / (np.maximum(1e-8, np.abs(x) + np.abs(y))))"
      ],
      "execution_count": 0,
      "outputs": []
    },
    {
      "cell_type": "code",
      "metadata": {
        "id": "-gdJbqDfmRnn",
        "colab_type": "code",
        "colab": {}
      },
      "source": [
        "def fully_forward(x,w,b):\n",
        "  out = None\n",
        "  dim_size = x[0].shape\n",
        "  X = x.reshape(x.shape[0],np.prod(dim_size))\n",
        "  #print(X.shape,w.shape) \n",
        "  out = X.dot(w)+b\n",
        "  cache = (x,w,b)\n",
        "  return out,cache"
      ],
      "execution_count": 0,
      "outputs": []
    },
    {
      "cell_type": "code",
      "metadata": {
        "id": "cqaloMN7nNUU",
        "colab_type": "code",
        "outputId": "c3bb702e-b627-44a0-b971-279b4b24108e",
        "colab": {
          "base_uri": "https://localhost:8080/",
          "height": 50
        }
      },
      "source": [
        "num_inputs = 2\n",
        "input_shape = (4, 5, 6)\n",
        "output_dim = 3\n",
        "\n",
        "input_size = num_inputs * np.prod(input_shape)\n",
        "weight_size = output_dim * np.prod(input_shape)\n",
        "\n",
        "x = np.linspace(-0.1, 0.5, num=input_size).reshape(num_inputs, *input_shape)\n",
        "w = np.linspace(-0.2, 0.3, num=weight_size).reshape(np.prod(input_shape), output_dim)\n",
        "b = np.linspace(-0.3, 0.1, num=output_dim)\n",
        "\n",
        "out, _ = fully_forward(x, w, b)\n",
        "correct_out = np.array([[ 1.49834967,  1.70660132,  1.91485297],\n",
        "                        [ 3.25553199,  3.5141327,   3.77273342]])\n",
        "\n",
        "# Compare your output with ours. The error should be around e-9 or less.\n",
        "print('Testing affine_forward function:')\n",
        "print('difference: ', rel_error(out, correct_out))"
      ],
      "execution_count": 11,
      "outputs": [
        {
          "output_type": "stream",
          "text": [
            "Testing affine_forward function:\n",
            "difference:  9.769849468192957e-10\n"
          ],
          "name": "stdout"
        }
      ]
    },
    {
      "cell_type": "code",
      "metadata": {
        "id": "K0K2rAs1oDEO",
        "colab_type": "code",
        "colab": {}
      },
      "source": [
        "def fully_backward(dout,cache):\n",
        "  x, w, b = cache\n",
        "  dx, dw, db = None, None, None\n",
        "  dim_shape = np.prod(x[0].shape)\n",
        "  N = x.shape[0]\n",
        "  X = x.reshape(N, dim_shape)\n",
        "\n",
        "  dx = dout.dot(w.T)\n",
        "  dx = dx.reshape(x.shape)\n",
        "\n",
        "  dw = X.T.dot(dout)\n",
        "  db = dout.sum(axis=0)\n",
        "\n",
        "  return dx,dw,db"
      ],
      "execution_count": 0,
      "outputs": []
    },
    {
      "cell_type": "code",
      "metadata": {
        "id": "tQLPrFpYqOXG",
        "colab_type": "code",
        "colab": {}
      },
      "source": [
        "def relu_forward(x):\n",
        "  out = None\n",
        "  out = np.maximum(0,x)\n",
        "  cache = x\n",
        "  return out,cache"
      ],
      "execution_count": 0,
      "outputs": []
    },
    {
      "cell_type": "code",
      "metadata": {
        "id": "3TIKESBirWan",
        "colab_type": "code",
        "colab": {}
      },
      "source": [
        "def relu_backward(dout,cache):\n",
        "  dx,x = None,cache\n",
        "  dx = dout * (x > 0)\n",
        "  return dx"
      ],
      "execution_count": 0,
      "outputs": []
    },
    {
      "cell_type": "code",
      "metadata": {
        "id": "5X87bTWxwNIt",
        "colab_type": "code",
        "colab": {}
      },
      "source": [
        "def fully_relu_forward(x,w,b):\n",
        "  a,f_cache = fully_forward(x,w,b)\n",
        "  out,relu_cache = relu_forward(a)\n",
        "  cache = (f_cache,relu_cache)\n",
        "  return out,cache"
      ],
      "execution_count": 0,
      "outputs": []
    },
    {
      "cell_type": "code",
      "metadata": {
        "id": "OdkdbtDny6Dc",
        "colab_type": "code",
        "colab": {}
      },
      "source": [
        "def fully_relu_backward(dout,cache):\n",
        "  f_cache,relu_cache = cache\n",
        "  #print(dout.shape,relu_cache.shape)\n",
        "  da = relu_backward(dout,relu_cache)\n",
        "  dx,dw,db = fully_backward(da,f_cache)\n",
        "  return dx,dw,db"
      ],
      "execution_count": 0,
      "outputs": []
    },
    {
      "cell_type": "code",
      "metadata": {
        "id": "X15dMnm-puul",
        "colab_type": "code",
        "colab": {}
      },
      "source": [
        "def softmax_loss(x, y):\n",
        "    \"\"\"\n",
        "    Computes the loss and gradient for softmax classification.\n",
        "    Inputs:\n",
        "    - x: Input data, of shape (N, C) where x[i, j] is the score for the jth class\n",
        "      for the ith input.\n",
        "    - y: Vector of labels, of shape (N,) where y[i] is the label for x[i] and\n",
        "      0 <= y[i] < C\n",
        "    Returns a tuple of:\n",
        "    - loss: Scalar giving the loss\n",
        "    - dx: Gradient of the loss with respect to x\n",
        "    \"\"\"\n",
        "    probs = np.exp(x - np.max(x, axis=1, keepdims=True))\n",
        "    probs /= np.sum(probs, axis=1, keepdims=True)\n",
        "    N = x.shape[0]\n",
        "    loss = -np.sum(np.log(probs[np.arange(N), y])) / N\n",
        "    dx = probs.copy()\n",
        "    dx[np.arange(N), y] -= 1\n",
        "    dx /= N\n",
        "    return loss, dx"
      ],
      "execution_count": 0,
      "outputs": []
    },
    {
      "cell_type": "code",
      "metadata": {
        "id": "GWQGtWsqza0f",
        "colab_type": "code",
        "colab": {}
      },
      "source": [
        "class TwoLayerNet(object):\n",
        "  def __init__(self,input_dim=3*32*32,hidden_dim=100,num_classes=10,weight_scale=1e-3,reg=0.0):\n",
        "    self.params = {}\n",
        "    self.reg = reg\n",
        "    self.params['W1'] = weight_scale*np.random.randn(input_dim,hidden_dim)\n",
        "    self.params['W2'] = weight_scale*np.random.randn(hidden_dim,num_classes)\n",
        "    self.params['b1'] = np.zeros(hidden_dim)\n",
        "    self.params['b2'] = np.zeros(num_classes)\n",
        "\n",
        "  def loss(self,x,y=None):\n",
        "    scores = None\n",
        "    W1 = self.params['W1']\n",
        "    W2 = self.params['W2']\n",
        "    b1 = self.params['b1']\n",
        "    b2 = self.params['b2']\n",
        "    x2,relu_cache = fully_relu_forward(x,W1,b1)\n",
        "    scores,relu2_cache = fully_relu_forward(x2,W2,b2)\n",
        "\n",
        "    if y is None:\n",
        "      return scores\n",
        "    loss,grads = 0,{}\n",
        "    loss, softmax_grad = softmax_loss(scores, y)\n",
        "    loss += 0.5 * self.reg * ( np.sum(W1 * W1) + np.sum(W2 * W2) )\n",
        "\n",
        "    # calculate gradient\n",
        "    dx2, dw2, db2 = fully_relu_backward(softmax_grad, relu2_cache)\n",
        "    dx, dw, db = fully_relu_backward(dx2, relu_cache)\n",
        "    grads['W2'] = dw2 + self.reg * W2\n",
        "    grads['b2'] = db2\n",
        "    grads['W1'] = dw + self.reg * W1\n",
        "    grads['b1'] = db\n",
        "    return loss,grads"
      ],
      "execution_count": 0,
      "outputs": []
    },
    {
      "cell_type": "code",
      "metadata": {
        "id": "QxkZAGjVhRzI",
        "colab_type": "code",
        "outputId": "580bdbaa-1949-4cdb-ad20-ca0dc55d8199",
        "colab": {
          "base_uri": "https://localhost:8080/",
          "height": 118
        }
      },
      "source": [
        "np.random.seed(231)\n",
        "N, D, H, C = 3, 5, 50, 7\n",
        "X = np.random.randn(N, D)\n",
        "y = np.random.randint(C, size=N)\n",
        "\n",
        "std = 1e-3\n",
        "model = TwoLayerNet(input_dim=D, hidden_dim=H, num_classes=C, weight_scale=std)\n",
        "\n",
        "print('Testing initialization ... ')\n",
        "W1_std = abs(model.params['W1'].std() - std)\n",
        "b1 = model.params['b1']\n",
        "W2_std = abs(model.params['W2'].std() - std)\n",
        "b2 = model.params['b2']\n",
        "assert W1_std < std / 10, 'First layer weights do not seem right'\n",
        "assert np.all(b1 == 0), 'First layer biases do not seem right'\n",
        "assert W2_std < std / 10, 'Second layer weights do not seem right'\n",
        "assert np.all(b2 == 0), 'Second layer biases do not seem right'\n",
        "\n",
        "print('Testing test-time forward pass ... ')\n",
        "model.params['W1'] = np.linspace(-0.7, 0.3, num=D*H).reshape(D, H)\n",
        "model.params['b1'] = np.linspace(-0.1, 0.9, num=H)\n",
        "model.params['W2'] = np.linspace(-0.3, 0.4, num=H*C).reshape(H, C)\n",
        "model.params['b2'] = np.linspace(-0.9, 0.1, num=C)\n",
        "X = np.linspace(-5.5, 4.5, num=N*D).reshape(D, N).T\n",
        "print(X.shape)\n",
        "scores = model.loss(X)\n",
        "correct_scores = np.asarray(\n",
        "  [[11.53165108,  12.2917344,   13.05181771,  13.81190102,  14.57198434, 15.33206765,  16.09215096],\n",
        "   [12.05769098,  12.74614105,  13.43459113,  14.1230412,   14.81149128, 15.49994135,  16.18839143],\n",
        "   [12.58373087,  13.20054771,  13.81736455,  14.43418138,  15.05099822, 15.66781506,  16.2846319 ]])\n",
        "scores_diff = np.abs(scores - correct_scores).sum()\n",
        "assert scores_diff < 1e-6, 'Problem with test-time forward pass'\n",
        "\n",
        "print('Testing training loss (no regularization)')\n",
        "y = np.asarray([0, 5, 1])\n",
        "loss, grads = model.loss(X, y)\n",
        "correct_loss = 3.4702243556\n",
        "print(abs(loss - correct_loss))\n",
        "\n",
        "model.reg = 1.0\n",
        "loss, grads = model.loss(X, y)\n",
        "correct_loss = 26.5948426952\n",
        "print(abs(loss - correct_loss))\n"
      ],
      "execution_count": 19,
      "outputs": [
        {
          "output_type": "stream",
          "text": [
            "Testing initialization ... \n",
            "Testing test-time forward pass ... \n",
            "(3, 5)\n",
            "Testing training loss (no regularization)\n",
            "4.6100900874535e-12\n",
            "3.858247055177344e-11\n"
          ],
          "name": "stdout"
        }
      ]
    },
    {
      "cell_type": "code",
      "metadata": {
        "id": "d_-iPRj1znhB",
        "colab_type": "code",
        "colab": {}
      },
      "source": [
        "class Solver(object):\n",
        "  def __init__(self,model,X_train,Y_train,X_val,Y_val,**kwargs):\n",
        "    self.model = model\n",
        "    self.X_train = X_train\n",
        "    self.Y_train = Y_train\n",
        "    self.X_val = X_val\n",
        "    self.Y_val = Y_val\n",
        "    self.update_rule = kwargs.pop('update_rule', 'sgd')\n",
        "    self.optim_config = kwargs.pop('optim_config', {})\n",
        "    self.lr_decay = kwargs.pop('lr_decay', 1.0)\n",
        "    self.batch_size = kwargs.pop('batch_size', 100)\n",
        "    self.num_epochs = kwargs.pop('num_epochs', 10)\n",
        "    self.num_train_samples = kwargs.pop('num_train_samples', 1000)\n",
        "    self.num_val_samples = kwargs.pop('num_val_samples', None)\n",
        "    self.checkpoint_name = kwargs.pop('checkpoint_name', None)\n",
        "    self.print_every = kwargs.pop('print_every', 10)\n",
        "    self.verbose = kwargs.pop('verbose', True)\n",
        "    #self.update_rule = getattr(optim, self.update_rule)\n",
        "    self._reset()\n",
        "\n",
        "  def _reset(self):\n",
        "    self.epoch = 0\n",
        "    self.best_val_acc = 0\n",
        "    self.best_params = {}\n",
        "    self.loss_history = []\n",
        "    self.train_acc_history = []\n",
        "    self.val_acc_history = []\n",
        "\n",
        "    # Make a deep copy of the optim_config for each parameter\n",
        "    self.optim_configs = {}\n",
        "    for p in self.model.params:\n",
        "      d = {k: v for k, v in self.optim_config.items()}\n",
        "      self.optim_configs[p] = d\n",
        "\n",
        "  def sgd11(w, dw, config=None):\n",
        "\n",
        "    if config is None: config = {}\n",
        "    config.setdefault('learning_rate', 1e-2)\n",
        "\n",
        "    w -= config['learning_rate'] * dw\n",
        "    return w, config\n",
        "\n",
        "  def _step(self):\n",
        "    num_train = self.X_train.shape[0]\n",
        "    batch_mask = np.random.choice(num_train, self.batch_size)\n",
        "    X_batch = self.X_train[batch_mask]\n",
        "    y_batch = self.Y_train[batch_mask]\n",
        "\n",
        "    loss, grads = self.model.loss(X_batch, y_batch)\n",
        "    self.loss_history.append(loss)\n",
        "\n",
        "    # Perform a parameter update\n",
        "    for p, w in self.model.params.items():\n",
        "      dw = grads[p]\n",
        "      config = self.optim_configs[p]\n",
        "      #next_w, next_config = self.sgd11(w, dw, config)\n",
        "      next_w = w - config['learning_rate']*dw\n",
        "      next_config = config\n",
        "      self.model.params[p] = next_w\n",
        "      self.optim_configs[p] = next_config\n",
        "\n",
        "  def _save_checkpoint(self):\n",
        "    if self.checkpoint_name is None: return\n",
        "    checkpoint = {\n",
        "          'model': self.model,\n",
        "          'update_rule': self.update_rule,\n",
        "          'lr_decay': self.lr_decay,\n",
        "          'optim_config': self.optim_config,\n",
        "          'batch_size': self.batch_size,\n",
        "          'num_train_samples': self.num_train_samples,\n",
        "          'num_val_samples': self.num_val_samples,\n",
        "          'epoch': self.epoch,\n",
        "          'loss_history': self.loss_history,\n",
        "          'train_acc_history': self.train_acc_history,\n",
        "          'val_acc_history': self.val_acc_history,\n",
        "    }\n",
        "    filename = '%s_epoch_%d.pkl' % (self.checkpoint_name, self.epoch)\n",
        "    if self.verbose:\n",
        "        print('Saving checkpoint to \"%s\"' % filename)\n",
        "    with open(filename, 'wb') as f:\n",
        "        pickle.dump(checkpoint, f)\n",
        "\n",
        "  def check_accuracy(self,X,y,num_samples=None,batch_size=100) :\n",
        "    N = X.shape[0]\n",
        "    if num_samples is not None and N > num_samples:\n",
        "      mask = np.random.choice(N, num_samples)\n",
        "      N = num_samples\n",
        "      X = X[mask]\n",
        "      y = y[mask]\n",
        "\n",
        "    num_batches = N // batch_size\n",
        "    if N % batch_size != 0:\n",
        "      num_batches += 1\n",
        "    y_pred = []\n",
        "    for i in range(num_batches):\n",
        "      start = i * batch_size\n",
        "      end = (i + 1) * batch_size\n",
        "      scores = self.model.loss(X[start:end])\n",
        "      y_pred.append(np.argmax(scores, axis=1))\n",
        "    y_pred = np.hstack(y_pred)\n",
        "    acc = np.mean(y_pred == y)\n",
        "    return acc\n",
        "\n",
        "  def train(self):\n",
        "    num_train = self.X_train.shape[0]\n",
        "    iterations_epoch = max(num_train // self.batch_size , 1)\n",
        "    num_iterations = self.num_epochs * iterations_epoch\n",
        "\n",
        "    for t in range(num_iterations):\n",
        "      self._step()\n",
        "\n",
        "      if self.verbose and t % self.print_every == 0:\n",
        "        print('(Iteration %d / %d) loss: %f' % (\n",
        "              t + 1, num_iterations, self.loss_history[-1]))\n",
        "      \n",
        "      #check if epoch is over and if its over then decay learning rate and increment num of epoch\n",
        "      epoch_end = (t + 1) % iterations_epoch == 0\n",
        "      if epoch_end:\n",
        "        self.epoch += 1\n",
        "        for k in self.optim_configs:\n",
        "          self.optim_configs[k]['learning_rate'] *= self.lr_decay\n",
        "      \n",
        "      # Check train and val accuracy on the first iteration, the last\n",
        "      # iteration, and at the end of each epoch.\n",
        "      first_it = (t == 0)\n",
        "      last_it = (t == num_iterations - 1)\n",
        "      if first_it or last_it or epoch_end:\n",
        "        train_acc = self.check_accuracy(self.X_train, self.Y_train,\n",
        "            num_samples=self.num_train_samples)\n",
        "        val_acc = self.check_accuracy(self.X_val, self.Y_val,\n",
        "            num_samples=self.num_val_samples)\n",
        "        self.train_acc_history.append(train_acc)\n",
        "        self.val_acc_history.append(val_acc)\n",
        "        self._save_checkpoint()\n",
        "\n",
        "        if self.verbose:\n",
        "          print('(Epoch %d / %d) train acc: %f; val_acc: %f' % (\n",
        "                self.epoch, self.num_epochs, train_acc, val_acc))\n",
        "\n",
        "        # Keep track of the best model\n",
        "        if val_acc > self.best_val_acc:\n",
        "          self.best_val_acc = val_acc\n",
        "          self.best_params = {}\n",
        "          for k, v in self.model.params.items():\n",
        "            self.best_params[k] = v.copy()\n",
        "\n",
        "    # At the end of training swap the best params into the model\n",
        "    self.model.params = self.best_params"
      ],
      "execution_count": 0,
      "outputs": []
    },
    {
      "cell_type": "code",
      "metadata": {
        "id": "teGU4o7qjHbs",
        "colab_type": "code",
        "outputId": "f462c559-5c80-4edd-f3bd-4ec3b6c7f3c8",
        "colab": {
          "base_uri": "https://localhost:8080/",
          "height": 370
        }
      },
      "source": [
        "model = TwoLayerNet()\n",
        "solver = None\n",
        "best_val = -1\n",
        "def generate_random_hyperparams(lr_min, lr_max, reg_min, reg_max, h_min, h_max):\n",
        "    lr = 10**np.random.uniform(lr_min,lr_max)\n",
        "    reg = 10**np.random.uniform(reg_min,reg_max)\n",
        "    hidden = np.random.randint(h_min, h_max)\n",
        "    return lr, reg, hidden\n",
        "for i in range(20):\n",
        "    lr, reg, hidden_size = generate_random_hyperparams(-4,-2, -7, -4, 10, 200)\n",
        "    model = TwoLayerNet(hidden_dim = hidden_size, reg= reg)\n",
        "    cur_solver = Solver(model, X_train,Y_train,X_val,Y_val, update_rule='sgd', optim_config={'learning_rate':lr}, \n",
        "                        lr_decay=0.95, num_epochs=5,batch_size=200, print_every=-1, verbose=False)\n",
        "    cur_solver.train()\n",
        "    val_accuracy = cur_solver.best_val_acc\n",
        "    if best_val < val_accuracy:\n",
        "        best_val = val_accuracy\n",
        "        solver = cur_solver\n",
        "    # Print results\n",
        "    print('lr %e reg %e hid %d  val accuracy: %f' % (\n",
        "                lr, reg, hidden_size, val_accuracy))\n",
        "print('best validation accuracy achieved: %f' % best_val)"
      ],
      "execution_count": 21,
      "outputs": [
        {
          "output_type": "stream",
          "text": [
            "lr 5.547653e-03 reg 7.123358e-07 hid 152  val accuracy: 0.116000\n",
            "lr 3.304700e-04 reg 6.890565e-05 hid 126  val accuracy: 0.390000\n",
            "lr 5.063610e-03 reg 1.486770e-07 hid 118  val accuracy: 0.116000\n",
            "lr 1.794447e-04 reg 4.769166e-06 hid 38  val accuracy: 0.355000\n",
            "lr 9.235702e-03 reg 1.392248e-06 hid 22  val accuracy: 0.107000\n",
            "lr 3.801213e-04 reg 2.235742e-07 hid 76  val accuracy: 0.422000\n",
            "lr 5.206455e-03 reg 3.586337e-07 hid 92  val accuracy: 0.150000\n",
            "lr 1.061826e-04 reg 2.714656e-05 hid 88  val accuracy: 0.332000\n",
            "lr 7.271861e-03 reg 7.792737e-06 hid 134  val accuracy: 0.107000\n",
            "lr 5.377205e-04 reg 6.559638e-06 hid 56  val accuracy: 0.423000\n",
            "lr 2.200057e-03 reg 4.408483e-07 hid 141  val accuracy: 0.165000\n",
            "lr 5.204039e-03 reg 5.388462e-05 hid 86  val accuracy: 0.128000\n",
            "lr 7.368653e-03 reg 7.769144e-05 hid 178  val accuracy: 0.140000\n",
            "lr 6.771452e-04 reg 1.212714e-05 hid 88  val accuracy: 0.394000\n",
            "lr 1.177248e-04 reg 1.992240e-05 hid 35  val accuracy: 0.308000\n",
            "lr 2.015070e-04 reg 4.306539e-05 hid 157  val accuracy: 0.440000\n",
            "lr 1.415577e-03 reg 1.454536e-05 hid 117  val accuracy: 0.222000\n",
            "lr 8.828038e-03 reg 2.451479e-06 hid 116  val accuracy: 0.109000\n",
            "lr 8.465214e-03 reg 1.561575e-05 hid 90  val accuracy: 0.144000\n",
            "lr 1.765577e-04 reg 4.087121e-07 hid 153  val accuracy: 0.420000\n",
            "best validation accuracy achieved: 0.440000\n"
          ],
          "name": "stdout"
        }
      ]
    },
    {
      "cell_type": "code",
      "metadata": {
        "id": "LpXOpwMzCJy4",
        "colab_type": "code",
        "colab": {
          "base_uri": "https://localhost:8080/",
          "height": 730
        },
        "outputId": "843be776-fb43-4902-f08c-d511e6283d42"
      },
      "source": [
        "plt.subplot(2, 1, 1)\n",
        "plt.title('Training loss')\n",
        "plt.plot(solver.loss_history, 'o')\n",
        "plt.xlabel('Iteration')\n",
        "\n",
        "plt.subplot(2, 1, 2)\n",
        "plt.title('Accuracy')\n",
        "plt.plot(solver.train_acc_history, '-o', label='train')\n",
        "plt.plot(solver.val_acc_history, '-o', label='val')\n",
        "plt.plot([0.5] * len(solver.val_acc_history), 'k--')\n",
        "plt.xlabel('Epoch')\n",
        "plt.legend(loc='lower right')\n",
        "plt.gcf().set_size_inches(15, 12)\n",
        "plt.show()"
      ],
      "execution_count": 22,
      "outputs": [
        {
          "output_type": "display_data",
          "data": {
            "image/png": "[encoded data removed]",
            "text/plain": [
              "<Figure size 1080x864 with 2 Axes>"
            ]
          },
          "metadata": {
            "tags": [],
            "needs_background": "light"
          }
        }
      ]
    },
    {
      "cell_type": "code",
      "metadata": {
        "id": "uF3heETdSRzg",
        "colab_type": "code",
        "colab": {}
      },
      "source": [
        "class FullyConnected(object):\n",
        "  def __init__(self,hidden_dims,input_dim = 3*32*32,num_classes = 10,dropout = 1,\n",
        "               normalization = None,reg = 0.0,weight_scale = 1e-2,dtype = np.float32,seed = None):\n",
        "    self.normalization = normalization\n",
        "    self.use_dropout = dropout != 1\n",
        "    self.reg = reg\n",
        "    self.num_layers = 1 + len(hidden_dims)\n",
        "    self.dtype = dtype\n",
        "    self.params = {}\n",
        "    \n",
        "    layers_dims = np.hstack([input_dim, hidden_dims, num_classes])\n",
        "    for i in range(self.num_layers):\n",
        "      self.params['W'+str(i+1)] = weight_scale*np.random.randn(layers_dims[i],layers_dims[i+1])\n",
        "      self.params['b'+str(i+1)] = np.zeros(layers_dims[i+1])\n",
        "    \n",
        "    for k, v in self.params.items():\n",
        "      self.params[k] = v.astype(dtype)\n",
        "  \n",
        "  def loss(self, X, y = None):\n",
        "    "
      ],
      "execution_count": 0,
      "outputs": []
    }
  ]
}