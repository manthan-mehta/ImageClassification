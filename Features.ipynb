{
  "nbformat": 4,
  "nbformat_minor": 0,
  "metadata": {
    "colab": {
      "name": "Features.ipynb",
      "provenance": [],
      "authorship_tag": "ABX9TyMGMKZgU7AGpJOY5XrCeab8",
      "include_colab_link": true
    },
    "kernelspec": {
      "name": "python3",
      "display_name": "Python 3"
    }
  },
  "cells": [
    {
      "cell_type": "markdown",
      "metadata": {
        "id": "view-in-github",
        "colab_type": "text"
      },
      "source": [
        "<a href=\"https://colab.research.google.com/github/manthan-mehta/ImageClassification/blob/master/Features.ipynb\" target=\"_parent\"><img src=\"https://colab.research.google.com/assets/colab-badge.svg\" alt=\"Open In Colab\"/></a>"
      ]
    },
    {
      "cell_type": "code",
      "metadata": {
        "id": "ernDW0k5ZgmH",
        "colab_type": "code",
        "colab": {}
      },
      "source": [
        "import numpy as np"
      ],
      "execution_count": 0,
      "outputs": []
    },
    {
      "cell_type": "code",
      "metadata": {
        "id": "Te0SC3yOkwhd",
        "colab_type": "code",
        "colab": {}
      },
      "source": [
        "def rgb2gray(rgb):\n",
        "  return np.dot(rgb[...,:3],[0.299,0.587,0.144])"
      ],
      "execution_count": 0,
      "outputs": []
    },
    {
      "cell_type": "code",
      "metadata": {
        "id": "Twfz_rPnlIjA",
        "colab_type": "code",
        "colab": {}
      },
      "source": [
        "def hog_feature(im): #Histogram of Gradient(HOG)\n",
        "  if im.ndim == 3:\n",
        "    image = rgb2gray(im)\n",
        "  else:\n",
        "    image = np.atleast_2d(im)\n",
        "\n",
        "  sx,sy = image.shape\n",
        "  orientations = 9\n",
        "  cx,cy = (8,8)\n",
        "\n",
        "  gx = np.zeros(image.shape)\n",
        "  gy = np.zeros(image.shape)\n",
        "  gx[:,:-1] = np.diff(image,n=1,axis=0) #gradient in x-direction\n",
        "  gy[:-1,:] = np.diff(image,n=1,axis=1) #gradient in y-direction\n",
        "\n",
        "  grad_mag = np.sqrt(gx ** 2 + gy ** 2) # gradient magnitude\n",
        "  grad_ori = np.arctan2(gy, (gx + 1e-15)) * (180 / np.pi) + 90 # gradient orientation\n",
        "\n",
        "  n_cellsx = int(np.floor(sx / cx))  # number of cells in x\n",
        "  n_cellsy = int(np.floor(sy / cy))  # number of cells in y\n",
        "\n",
        "  #Final feature vector of HOG\n",
        "  orientation_histogram = np.zeros((n_cellsx, n_cellsy, orientations))\n",
        "  \n",
        "\n"
      ],
      "execution_count": 0,
      "outputs": []
    }
  ]
}